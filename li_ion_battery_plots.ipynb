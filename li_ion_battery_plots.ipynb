{
  "nbformat": 4,
  "nbformat_minor": 0,
  "metadata": {
    "colab": {
      "provenance": []
    },
    "kernelspec": {
      "name": "python3",
      "display_name": "Python 3"
    },
    "language_info": {
      "name": "python"
    }
  },
  "cells": [
    {
      "cell_type": "code",
      "source": [
        "import kagglehub\n",
        "\n",
        "# Download latest version\n",
        "path = kagglehub.dataset_download(\"patrickfleith/nasa-battery-dataset\")"
      ],
      "metadata": {
        "colab": {
          "base_uri": "https://localhost:8080/"
        },
        "id": "X1Teentb1fHG",
        "outputId": "013bdfd2-e500-4644-b6bd-e596edef74ea"
      },
      "execution_count": 3,
      "outputs": [
        {
          "output_type": "stream",
          "name": "stdout",
          "text": [
            "Warning: Looks like you're using an outdated `kagglehub` version, please consider updating (latest version: 0.3.5)\n",
            "Downloading from https://www.kaggle.com/api/v1/datasets/download/patrickfleith/nasa-battery-dataset?dataset_version_number=2...\n"
          ]
        },
        {
          "output_type": "stream",
          "name": "stderr",
          "text": [
            "100%|██████████| 228M/228M [00:01<00:00, 170MB/s]"
          ]
        },
        {
          "output_type": "stream",
          "name": "stdout",
          "text": [
            "Extracting files...\n"
          ]
        },
        {
          "output_type": "stream",
          "name": "stderr",
          "text": [
            "\n"
          ]
        }
      ]
    },
    {
      "cell_type": "code",
      "source": [
        "!mkdir plots"
      ],
      "metadata": {
        "colab": {
          "base_uri": "https://localhost:8080/"
        },
        "id": "dhL97X5E2hvG",
        "outputId": "d56eb09a-0745-4307-ddc7-541a97b4345d"
      },
      "execution_count": 18,
      "outputs": [
        {
          "output_type": "stream",
          "name": "stdout",
          "text": [
            "mkdir: cannot create directory ‘plots’: File exists\n"
          ]
        }
      ]
    },
    {
      "cell_type": "code",
      "source": [
        "import pandas as pd\n",
        "from datetime import datetime\n",
        "import numpy as np\n",
        "import plotly.graph_objects as graph\n",
        "import plotly.io as ply\n",
        "\n",
        "# Function to load and clean data\n",
        "def load_and_clean_data(dataset_path):\n",
        "    metadata = pd.read_csv(f\"{dataset_path}/cleaned_dataset/metadata.csv\")\n",
        "    impedance_data = metadata[metadata['type'] == 'impedance'][['start_time', 'Re', 'Rct', 'battery_id']]\n",
        "    file_data = metadata[metadata['type'] == 'impedance'][['start_time', 'filename', 'battery_id']]\n",
        "    return impedance_data, file_data\n",
        "\n",
        "# Function to parse start_time\n",
        "def convert_to_datetime(time_string):\n",
        "    try:\n",
        "        if isinstance(time_string, str):\n",
        "            time_string = time_string.strip(\"[]\").replace(\",\", \"\")\n",
        "            components = [float(x) for x in time_string.split()]\n",
        "            if len(components) == 6:\n",
        "                year, month, day, hour, minute = map(int, components[:5])\n",
        "                second = int(components[5])  # Handle fractional seconds\n",
        "                return datetime(year, month, day, hour, minute, second)\n",
        "        elif isinstance(time_string, (list, np.ndarray)) and len(time_string) == 6:\n",
        "            year, month, day, hour, minute = map(int, time_string[:5])\n",
        "            second = int(float(time_string[5]))  # Handle fractional seconds\n",
        "            return datetime(year, month, day, hour, minute, second)\n",
        "    except (ValueError, SyntaxError, TypeError) as e:\n",
        "        print(f\"Failed to parse: {time_string}, Error: {e}\")\n",
        "    return pd.NaT\n",
        "\n",
        "def extract_absolute_value(value):\n",
        "    try:\n",
        "        return abs(complex(value))\n",
        "    except (ValueError, TypeError) as e:\n",
        "        print(f\"Error processing value {value}: {e}\")\n",
        "    return np.nan\n",
        "\n",
        "impedance_df, file_df = load_and_clean_data(path)\n",
        "\n",
        "# Apply parsing functions to the data\n",
        "impedance_df['start_time'] = impedance_df['start_time'].apply(convert_to_datetime)\n",
        "file_df['start_time'] = file_df['start_time'].apply(convert_to_datetime)\n",
        "impedance_df['Re'] = impedance_df['Re'].apply(extract_absolute_value)\n",
        "impedance_df['Rct'] = impedance_df['Rct'].apply(extract_absolute_value)\n"
      ],
      "metadata": {
        "id": "DdwmpW9jzEp3"
      },
      "execution_count": 19,
      "outputs": []
    },
    {
      "cell_type": "code",
      "source": [
        "impedance_df = impedance_df.dropna(subset=['start_time'])\n",
        "impedance_df= impedance_df.sort_values(by='start_time')\n",
        "\n",
        "# Plot for each battery_id\n",
        "for battery_id in impedance_df['battery_id'].unique():\n",
        "    battery_data = impedance_df[impedance_df['battery_id'] == battery_id]\n",
        "    if battery_data.empty:\n",
        "        print(f\"No data available for battery_id {battery_id}\")\n",
        "        continue\n",
        "\n",
        "    # Create the figure\n",
        "    fig = go.Figure()\n",
        "    fig.add_trace(go.Scatter(\n",
        "        x=battery_data['start_time'],\n",
        "        y=battery_data['Re'],\n",
        "        mode='lines+markers',\n",
        "        name='Re',\n",
        "        line=dict(color='blue')\n",
        "    ))\n",
        "    fig.add_trace(go.Scatter(\n",
        "        x=battery_data['start_time'],\n",
        "        y=battery_data['Rct'],\n",
        "        mode='lines+markers',\n",
        "        name='Rct',\n",
        "        line=dict(color='red')\n",
        "    ))\n",
        "\n",
        "    fig.update_layout(\n",
        "        title=f\"Resistance Change Over Time for Battery ID: {battery_id}\",\n",
        "        xaxis_title=\"Start Time\",\n",
        "        yaxis_title=\"Magnitude of Resistance (Ohms)\",\n",
        "        xaxis=dict(tickangle=45),\n",
        "        legend_title=\"Legend\",\n",
        "        legend_font_size=16,\n",
        "        template=\"plotly\",\n",
        "        height=1000,\n",
        "        width=1500,\n",
        "    )\n",
        "\n",
        "\n",
        "    fig.write_image(f\"plots/battery_{battery_id}_plot.png\")"
      ],
      "metadata": {
        "collapsed": true,
        "id": "fT-SXGLt0dY3"
      },
      "execution_count": 20,
      "outputs": []
    },
    {
      "cell_type": "code",
      "source": [
        "import pandas as pd\n",
        "import plotly.graph_objects as go\n",
        "from datetime import datetime\n",
        "\n",
        "\n",
        "file_df = file_df.dropna(subset=['start_time'])\n",
        "file_df = file_df.sort_values(by='start_time')\n",
        "battery_data = {}\n",
        "\n",
        "for index, row in file_df.iterrows():\n",
        "  battery_id = row['battery_id']\n",
        "  filename = row['filename']\n",
        "  start_time = row['start_time']\n",
        "\n",
        "  file_path = f\"{path}/cleaned_dataset/data/{filename}\"\n",
        "  try:\n",
        "        data = pd.read_csv(file_path)\n",
        "        if 'Battery_impedance' in data.columns:\n",
        "            impedance_values = data['Battery_impedance'].apply(lambda x: abs(complex(x)))\n",
        "            avg_impedance = impedance_values.mean()\n",
        "            if battery_id not in battery_data:\n",
        "                battery_data[battery_id] = {'start_time': [], 'impedance': []}\n",
        "\n",
        "            battery_data[battery_id]['start_time'].append(start_time)\n",
        "            battery_data[battery_id]['impedance'].append(avg_impedance)\n",
        "        else:\n",
        "            print(f\"'Battery_impedance' column not found in {filename}\")\n",
        "  except Exception as e:\n",
        "        print(f\"Error processing file {filename}: {e}\")\n",
        "\n",
        "\n",
        "for battery_id, data in battery_data.items():\n",
        "      fig = go.Figure()\n",
        "      fig.add_trace(go.Scatter(x=data['start_time'], y=data['impedance'], mode='lines+markers', name=f'Battery {battery_id}'))\n",
        "      fig.update_layout(\n",
        "          title=f'Impedance Change Over Time for Battery {battery_id}',\n",
        "          xaxis_title='Start Time',\n",
        "          yaxis_title='Magnitude of Impedance (Ohms)',\n",
        "          xaxis=dict(tickangle=45),\n",
        "          template='plotly_white',\n",
        "          height=1000,\n",
        "          width=1500,\n",
        "      )\n",
        "      fig.write_image(f\"plots/battery_{battery_id}_impedance_plot.png\")"
      ],
      "metadata": {
        "collapsed": true,
        "id": "eU7kRCX10n8b"
      },
      "execution_count": 21,
      "outputs": []
    }
  ]
}